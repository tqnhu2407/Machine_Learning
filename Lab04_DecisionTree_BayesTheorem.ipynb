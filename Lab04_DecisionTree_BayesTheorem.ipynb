{
  "nbformat": 4,
  "nbformat_minor": 0,
  "metadata": {
    "colab": {
      "name": "Lab04-DecisionTree_BayesTheorem.ipynb",
      "provenance": [],
      "collapsed_sections": []
    },
    "kernelspec": {
      "display_name": "Python 3",
      "language": "python",
      "name": "python3"
    },
    "language_info": {
      "codemirror_mode": {
        "name": "ipython",
        "version": 3
      },
      "file_extension": ".py",
      "mimetype": "text/x-python",
      "name": "python",
      "nbconvert_exporter": "python",
      "pygments_lexer": "ipython3",
      "version": "3.8.5"
    }
  },
  "cells": [
    {
      "cell_type": "markdown",
      "metadata": {
        "id": "b76YngfGGfyD"
      },
      "source": [
        "# Lab04: Decision Tree and Naive Bayes\n",
        "\n",
        "- Student ID: 18127266\n",
        "- Student name: Trần Quỳnh Như"
      ]
    },
    {
      "cell_type": "markdown",
      "metadata": {
        "id": "-xZqh-Z7GfyF"
      },
      "source": [
        "**How to do your homework**\n",
        "\n",
        "\n",
        "You will work directly on this notebook; the word `TODO` indicate the parts you need to do.\n",
        "\n",
        "You can discuss ideas with classmates as well as finding information from the internet, book, etc...; but *this homework must be your*.\n",
        "\n",
        "**How to submit your homework**\n",
        "\n",
        "Before submitting, rerun the notebook (`Kernel` ->` Restart & Run All`).\n",
        "\n",
        "Then create a folder named `ID` (for example, if your ID is 1234567, then name the folder `1234567`) Copy file notebook to this folder, compress and submit it on moodle.\n",
        "\n",
        "**Contents:**\n",
        "\n",
        "- Decision Tree.\n",
        "- Naive Bayes"
      ]
    },
    {
      "cell_type": "markdown",
      "metadata": {
        "id": "--NRbml7GfyG"
      },
      "source": [
        "### Import library"
      ]
    },
    {
      "cell_type": "code",
      "metadata": {
        "id": "VhR1GCY5GfyH"
      },
      "source": [
        "import matplotlib.pyplot as plt\n",
        "from sklearn import datasets\n",
        "import pandas as pd\n",
        "import numpy as np\n",
        "from sklearn.metrics import accuracy_score"
      ],
      "execution_count": 1,
      "outputs": []
    },
    {
      "cell_type": "markdown",
      "metadata": {
        "id": "L-OzYr2SGfyN"
      },
      "source": [
        "### Load Iris dataset"
      ]
    },
    {
      "cell_type": "code",
      "metadata": {
        "id": "oX5c3r4uGfyO"
      },
      "source": [
        "from sklearn.model_selection import train_test_split\n",
        "iris=datasets.load_iris()\n",
        "\n",
        "X=iris.data\n",
        "y=iris.target\n",
        "\n",
        "#split dataset into training data and testing data\n",
        "X_train,X_test,y_train,y_test=train_test_split(X,y,test_size=0.33, random_state=42)"
      ],
      "execution_count": 2,
      "outputs": []
    },
    {
      "cell_type": "markdown",
      "metadata": {
        "id": "US1KgZBgGfyU"
      },
      "source": [
        "## 1. Decision Tree: Iterative Dichotomiser 3 (ID3)"
      ]
    },
    {
      "cell_type": "markdown",
      "metadata": {
        "id": "4sQh1ieuGfyV"
      },
      "source": [
        "### 1.1 Information Gain"
      ]
    },
    {
      "cell_type": "markdown",
      "metadata": {
        "id": "MSjCJR_eGfyV"
      },
      "source": [
        "Expected value of the self-information (entropy):"
      ]
    },
    {
      "cell_type": "markdown",
      "metadata": {
        "id": "BZM7fmb0GfyW"
      },
      "source": [
        "$$Entropy=-\\sum_{i}^{n}p_ilog_{2}(p_i)$$"
      ]
    },
    {
      "cell_type": "markdown",
      "metadata": {
        "id": "WDjtCHd_GfyX"
      },
      "source": [
        "The entropy function gets the smallest value if there is a value of $p_i$ equal to 1, reaches the maximum value if all $ p_i $ are equal. These properties of the entropy function make it is an expression of the disorder, or randomness of a system, ..."
      ]
    },
    {
      "cell_type": "code",
      "metadata": {
        "id": "kql-MFq-GfyX"
      },
      "source": [
        "def entropy(counts, n_samples):\n",
        "    \"\"\"\n",
        "    Parameters:\n",
        "    -----------\n",
        "    counts: shape (n_classes): list number of samples in each class\n",
        "    n_samples: number of data samples\n",
        "    \n",
        "    -----------\n",
        "    return entropy \n",
        "    \"\"\"\n",
        "    #TODO\n",
        "    en = 0\n",
        "    for i in range(len(counts)):\n",
        "        pi = counts[i] / n_samples\n",
        "        en -= pi * np.log2(pi)\n",
        "    return en"
      ],
      "execution_count": 3,
      "outputs": []
    },
    {
      "cell_type": "code",
      "metadata": {
        "colab": {
          "base_uri": "https://localhost:8080/"
        },
        "id": "MXtAJhcF1Woi",
        "outputId": "857e7df2-d925-4360-9cfb-098fa05051a3"
      },
      "source": [
        "c = []\n",
        "nhw = [0, 1, 2, 0, 1, 1, 1, 2, 2]\n",
        "c.append(np.count_nonzero(nhw == 0))\n",
        "c"
      ],
      "execution_count": 4,
      "outputs": [
        {
          "output_type": "execute_result",
          "data": {
            "text/plain": [
              "[0]"
            ]
          },
          "metadata": {
            "tags": []
          },
          "execution_count": 4
        }
      ]
    },
    {
      "cell_type": "code",
      "metadata": {
        "id": "AsGJfLhmGfyc"
      },
      "source": [
        "def entropy_of_one_division(division): \n",
        "    \"\"\"\n",
        "    Returns entropy of a divided group of data\n",
        "    Data may have multiple classes\n",
        "    \"\"\"\n",
        "    n_samples = len(division)\n",
        "    classes = set(division)\n",
        "    \n",
        "    counts=[]\n",
        "    #count samples in each class then store it to list counts\n",
        "    #TODO:\n",
        "    #count = np.count_nonzero(division == each_class)\n",
        "    unique, counts = np.unique(division, return_counts=True)\n",
        "    #counts.append(count)\n",
        "    \n",
        "    return entropy(counts,n_samples),n_samples\n",
        "\n",
        "\n",
        "def get_entropy(y_predict, y):\n",
        "    \"\"\"\n",
        "    Returns entropy of a split\n",
        "    y_predict is the split decision by cutoff, True/Fasle\n",
        "    \"\"\"\n",
        "    n = len(y)\n",
        "    entropy_true, n_true = entropy_of_one_division(y[y_predict]) # left hand side entropy\n",
        "    entropy_false, n_false = entropy_of_one_division(y[~y_predict]) # right hand side entropy\n",
        "    # overall entropy\n",
        "    #TODO s=?\n",
        "    p_true = n_true / n\n",
        "    p_false = n_false / n\n",
        "    s = p_true*entropy_true + p_false*entropy_false\n",
        "    return s"
      ],
      "execution_count": 5,
      "outputs": []
    },
    {
      "cell_type": "markdown",
      "metadata": {
        "id": "dWhnKZm9Gfyi"
      },
      "source": [
        "The information gain of classifying information set D by attribute A:\n",
        "$$ Gain(A)=Entrophy(D)-Entrophy_{A}(D)$$\n",
        "\n",
        "At each node in ID3, an attribute is chosen if its information gain is highest compare to others.\n",
        "\n",
        "All attributes of the Iris set are represented by continuous values. Therefore we need to represent them with discrete values. The simple way is to use a `cutoff` threshold to separate values of the data on each attribute into two part:` <cutoff` and `> = cutoff`.\n",
        "\n",
        "To find the best `cutoff` for an attribute, we replace` cutoff` with its values then compute the entropy, best `cutoff` achieved when value of entropy is smallest  $ \\left (\\arg \\min Entrophy_ {A} (D) \\right) $."
      ]
    },
    {
      "cell_type": "markdown",
      "metadata": {
        "id": "tTKwaSw-Gfyj"
      },
      "source": [
        "### 1.2 Decision tree"
      ]
    },
    {
      "cell_type": "code",
      "metadata": {
        "id": "xp6omaz2Gfyj"
      },
      "source": [
        "class DecisionTreeClassifier:\n",
        "    def __init__(self, tree=None, depth=0):\n",
        "        '''Parameters:\n",
        "        -----------------\n",
        "        tree: decision tree\n",
        "        depth: depth of decision tree after training'''\n",
        "        \n",
        "        self.depth = depth\n",
        "        self.tree=tree\n",
        "    def fit(self, X, y, node={}, depth=0):\n",
        "        '''Parameter:\n",
        "        -----------------\n",
        "        X: training data\n",
        "        y: label of training data\n",
        "        ------------------\n",
        "        return: node \n",
        "        \n",
        "        node: each node represented by cutoff value and column index, value and children.\n",
        "         - cutoff value is thresold where you divide your attribute\n",
        "         - column index is your data attribute index\n",
        "         - value of node is mean value of label indexes, \n",
        "           if a node is leaf all data samples will have same label\n",
        "        \n",
        "        Note that: we divide each attribute into 2 part => each node will have 2 children: left, right.\n",
        "        '''\n",
        "        \n",
        "        #Stop conditions\n",
        "        \n",
        "        #if all value of y are the same \n",
        "        if np.all(y==y[0]):\n",
        "            return {'val':y[0]}\n",
        "\n",
        "        else: \n",
        "            col_idx, cutoff, entropy = self.find_best_split_of_all(X, y)    # find one split given an information gain \n",
        "            y_left = y[X[:, col_idx] < cutoff]\n",
        "            y_right = y[X[:, col_idx] >= cutoff]\n",
        "            node = {'index_col':col_idx,\n",
        "                        'cutoff':cutoff,\n",
        "                   'val':np.mean(y)}\n",
        "            node['left'] = self.fit(X[X[:, col_idx] < cutoff], y_left, {}, depth+1)\n",
        "            node['right'] = self.fit(X[X[:, col_idx] >= cutoff], y_right, {}, depth+1)\n",
        "            self.depth += 1 \n",
        "            self.tree = node\n",
        "            return node\n",
        "    \n",
        "    def find_best_split_of_all(self, X, y):\n",
        "        col_idx = None\n",
        "        min_entropy = 1\n",
        "        cutoff = None\n",
        "        for i, col_data in enumerate(X.T):\n",
        "            entropy, cur_cutoff = self.find_best_split(col_data, y)\n",
        "            if entropy == 0:                   #best entropy\n",
        "                return i, cur_cutoff, entropy\n",
        "            elif entropy <= min_entropy:\n",
        "                min_entropy = entropy\n",
        "                col_idx = i\n",
        "                cutoff = cur_cutoff\n",
        "               \n",
        "        return col_idx, cutoff, min_entropy\n",
        "    \n",
        "    def find_best_split(self, col_data, y):\n",
        "        ''' Parameters:\n",
        "        -------------\n",
        "        col_data: data samples in column'''\n",
        "         \n",
        "        min_entropy = 10\n",
        "        cutoff = 0 # just a random number\n",
        "\n",
        "        #Loop through col_data find cutoff where entropy is minimum\n",
        "        \n",
        "        for value in set(col_data):\n",
        "            y_predict = col_data < value\n",
        "            my_entropy = get_entropy(y_predict, y)\n",
        "            #TODO\n",
        "            #min entropy=?, cutoff=?\n",
        "            if my_entropy < min_entropy:\n",
        "                min_entropy = my_entropy\n",
        "                cutoff = value\n",
        "            \n",
        "        return min_entropy, cutoff\n",
        "                                               \n",
        "    def predict(self, X):\n",
        "        tree = self.tree\n",
        "        pred = np.zeros(shape=len(X))\n",
        "        for i, c in enumerate(X):\n",
        "            pred[i] = self._predict(c)\n",
        "        return pred\n",
        "    \n",
        "    def _predict(self, row):\n",
        "        cur_layer = self.tree\n",
        "        while cur_layer.get('cutoff'):\n",
        "            if row[cur_layer['index_col']] < cur_layer['cutoff']:\n",
        "                cur_layer = cur_layer['left']\n",
        "            else:\n",
        "                cur_layer = cur_layer['right']\n",
        "        else:\n",
        "            return cur_layer.get('val')"
      ],
      "execution_count": 6,
      "outputs": []
    },
    {
      "cell_type": "markdown",
      "metadata": {
        "id": "v_OsIHd-Gfyq"
      },
      "source": [
        "\n",
        "### 1.3 Classification on Iris Dataset"
      ]
    },
    {
      "cell_type": "code",
      "metadata": {
        "id": "BNgHip1dGfyr",
        "colab": {
          "base_uri": "https://localhost:8080/"
        },
        "outputId": "1bdd83a2-5fc3-499a-95bd-1bc51b9c4685"
      },
      "source": [
        "model = DecisionTreeClassifier()\n",
        "tree = model.fit(X_train, y_train)\n",
        "pred=model.predict(X_train)\n",
        "print('Accuracy of your decision tree model on training data:', accuracy_score(y_train,pred))\n",
        "pred=model.predict(X_test)\n",
        "print('Accuracy of your decision tree model:', accuracy_score(y_test,pred))\n"
      ],
      "execution_count": 7,
      "outputs": [
        {
          "output_type": "stream",
          "text": [
            "Accuracy of your decision tree model on training data: 1.0\n",
            "Accuracy of your decision tree model: 0.96\n"
          ],
          "name": "stdout"
        }
      ]
    },
    {
      "cell_type": "markdown",
      "metadata": {
        "id": "2rXS4sPCGfyz"
      },
      "source": [
        "## 2. Bayes Theorem\n",
        "\n",
        "Bayes formulation\n",
        "$$\\begin{equation}\n",
        "P\\left(A|B\\right)= \\dfrac{P\\left(B|A\\right)P\\left(A\\right)}{P\\left(B\\right)}\n",
        "\\end{equation}$$\n",
        "\n",
        "If $B$ is our data $\\mathcal{D}$, $A$ and $w$ are parameters we need to estimate:\n",
        "\n",
        "$$ \\begin{align}\n",
        "    \\underbrace{P(w|\\mathcal{D})}_{Posterior}= \\dfrac{1}{\\underbrace{P(\\mathcal{D})}_{Normalization}} \\overbrace{P(\\mathcal{D}|w)}^{\\text{Likelihood}} \\overbrace{P(w)}^{Prior}\n",
        "    \\end{align}\n",
        "$$"
      ]
    },
    {
      "cell_type": "markdown",
      "metadata": {
        "id": "zuPXhYHzGfy1"
      },
      "source": [
        "#### Naive Bayes\n",
        "To make it simple, it is often assumed that the components of the $D$ random variable (or the features of the $D$ data) are independent with each other, if $w$ is known. It mean:\n",
        "\n",
        "$$P(\\mathcal{D}|w)=\\prod _{i=1}^{d}P(x_i|w)$$\n",
        "\n",
        "- $d$: number of features\n",
        "\n"
      ]
    },
    {
      "cell_type": "markdown",
      "metadata": {
        "id": "1m4AZLwgGfy3"
      },
      "source": [
        "### 2.1. Probability Density Function"
      ]
    },
    {
      "cell_type": "code",
      "metadata": {
        "id": "fA3arZy8Gfy4"
      },
      "source": [
        "class pdf:\n",
        "    def __init__(self,hist=None):\n",
        "        '''\n",
        "        A probability density function represented by a histogram\n",
        "        \n",
        "        hist: shape (n,1), n: number of hypotheses\n",
        "        hypo: hypothesis (simply understand as label)\n",
        "        ------------------\n",
        "        hist[hypo]=P(hypo)\n",
        "        '''\n",
        "        self.hist = hist\n",
        "        \n",
        "    #virtual function\n",
        "    def likelihood(self, data, hypo):\n",
        "        '''Paramters:\n",
        "        data: new data record \n",
        "        hypo: hypothesis (simply understand as label)\n",
        "        ---------\n",
        "        return P(data/hypo)\n",
        "        ''' \n",
        "        raise Exception()\n",
        "            \n",
        "    #update histogram for new data \n",
        "    def update(self, data):\n",
        "        ''' \n",
        "        P(hypo/data)=P(data/hypo)*P(hypo)*(1/P(data))\n",
        "        '''\n",
        "        \n",
        "        #Likelihood * Prior \n",
        "        #TODO\n",
        "        for hypo in self.hist.keys():\n",
        "            #self.hist[hypo]=?\n",
        "            self.hist[hypo] = self.likelihood(data, hypo) * self.hist[hypo]\n",
        "            \n",
        "\n",
        "        #Normalization\n",
        "        \n",
        "        #TODO: s=P(data)\n",
        "        #s=?\n",
        "        s = 0\n",
        "        for hypo in self.hist.keys():\n",
        "            s += self.hist[hypo]\n",
        "        \n",
        "        for hypo in self.hist.keys():\n",
        "            self.hist[hypo] = self.hist[hypo]/s\n",
        "        \n",
        "    def plot_pdf(self):\n",
        "        #plot Histogram\n",
        "        #TODO\n",
        "        plt.figure()\n",
        "        plt.bar(self.hist.keys(), self.hist.values())\n",
        "        plt.show()\n",
        "    \n",
        "    def maxHypo(self):\n",
        "        #find the hypothesis with maximum probability from hist\n",
        "        #TODO\n",
        "        max_hypo = 0\n",
        "        for hypo in self.hist.keys():\n",
        "            if self.hist[hypo] > self.hist[max_hypo]:\n",
        "                max_hypo = hypo\n",
        "        return max_hypo"
      ],
      "execution_count": 8,
      "outputs": []
    },
    {
      "cell_type": "markdown",
      "metadata": {
        "id": "x89nTrIEGfy7"
      },
      "source": [
        "### 2.2 Classification on Iris Dataset"
      ]
    },
    {
      "cell_type": "markdown",
      "metadata": {
        "id": "y9moO4N2Gfy8"
      },
      "source": [
        "#### Gaussian Naive Bayes"
      ]
    },
    {
      "cell_type": "markdown",
      "metadata": {
        "id": "rhLm2pD-Gfy-"
      },
      "source": [
        "- Naive Bayes can be extended to use on continuous data, most commonly by using a normal distribution (Gaussian distribution).\n",
        "\n",
        "- This extension called Gaussian Naive Bayes. Other functions can be used to estimate data distribution, but Gauss (or the normal distribution) is the easiest to work with since we only need to estimate the mean and standard deviation from the training data."
      ]
    },
    {
      "cell_type": "markdown",
      "metadata": {
        "id": "VDbWOYQ-GfzA"
      },
      "source": [
        "#### Define Gauss function"
      ]
    },
    {
      "cell_type": "markdown",
      "metadata": {
        "id": "TmlbwFHPGfzA"
      },
      "source": [
        "$$ f\\left(x;\\mu,\\sigma \\right)= \\dfrac{1}{\\sigma \\sqrt{2\\pi}} \n",
        "\\exp \\left({-\\dfrac{\\left(x-\\mu\\right)^2}{2 \\sigma^2}}\\right) $$"
      ]
    },
    {
      "cell_type": "code",
      "metadata": {
        "id": "-OpY89tkGfzB"
      },
      "source": [
        "def Gauss(std,mean,x):\n",
        "    #Compute the Gaussian probability distribution function for x\n",
        "    #TODO \n",
        "    return 1 / (std*np.sqrt(2*np.pi)) * np.exp(-((x-mean)**2) / (2*std*std))"
      ],
      "execution_count": 9,
      "outputs": []
    },
    {
      "cell_type": "code",
      "metadata": {
        "id": "RIutnepWGfzH"
      },
      "source": [
        "class NBGaussian(pdf):\n",
        "    def __init__(self, hist=None, std=None, mean=None):\n",
        "        '''Parameters:\n",
        "        \n",
        "        '''\n",
        "        pdf.__init__(self, hist)\n",
        "        self.std=std\n",
        "        self.mean=mean\n",
        "    def likelihood(self,data, hypo):\n",
        "        '''\n",
        "        Returns: res=P(data/hypo)\n",
        "        -----------------\n",
        "        Naive bayes:\n",
        "            Atributes are assumed to be conditionally independent given the class value.\n",
        "        '''\n",
        "    \n",
        "        std=self.std[hypo]\n",
        "        mean=self.mean[hypo]\n",
        "        res=1\n",
        "        #TODO\n",
        "        #res=res*P(x1/hypo)*P(x2/hypo)...\n",
        "        for i in range(len(data)): # i is the column ith (attribute ith)\n",
        "            res *= Gauss(std[i], mean[i], data[i]) \n",
        "        return res\n",
        "\n",
        "    def fit(self, X,y):\n",
        "        \"\"\"Parameters:\n",
        "        X: training data\n",
        "        y: labels of training data\n",
        "        \"\"\"\n",
        "        n=len(X)\n",
        "        #number of iris species\n",
        "        #TODO\n",
        "        #n_species=???\n",
        "        n_species = len(set(y))\n",
        "\n",
        "        \n",
        "        hist={}\n",
        "        mean={}\n",
        "        std={}\n",
        "        \n",
        "        #separate  dataset into rows by class\n",
        "        for hypo in range(0,n_species):\n",
        "            #rows have hypo label\n",
        "            #TODO rows=\n",
        "            rows = []\n",
        "            rows = [X[i] for i in range(len(X)) if y[i] == hypo]\n",
        "        \n",
        "            #histogram for each hypo\n",
        "            #TODO probability=?\n",
        "            probability = len(rows) / n\n",
        "            hist[hypo]=probability\n",
        "            \n",
        "            #Each hypothesis represented by its mean and standard derivation\n",
        "            '''mean and standard derivation should be calculated for each column (or each attribute)'''\n",
        "            #TODO mean[hypo]=?, std[hypo]=?\n",
        "            mean[hypo] = np.mean(rows, axis=0)\n",
        "            std[hypo] = np.std(rows, axis=0)\n",
        "            \n",
        "         \n",
        "        self.mean=mean\n",
        "        self.std=std\n",
        "        self.hist=hist\n",
        "   \n",
        "    def _predict(self, data, plot=False):\n",
        "        \"\"\"\n",
        "        Predict label for only 1 data sample\n",
        "        ------------\n",
        "        Parameters:\n",
        "        data: data sample\n",
        "        plot: True: draw histogram after update new record\n",
        "        -----------\n",
        "        return: label of data\n",
        "        \"\"\"\n",
        "        model=NBGaussian(hist=self.hist.copy(),std=self.std.copy(), mean=self.mean.copy())\n",
        "        model.update(data)\n",
        "        if (plot): model.plot_pdf()\n",
        "        return model.maxHypo()\n",
        "    \n",
        "    def predict(self, data):\n",
        "        \"\"\"Parameters:\n",
        "        Data: test data\n",
        "        ----------\n",
        "        return labels of test data\"\"\"\n",
        "        \n",
        "        pred=[]\n",
        "        for x in data:\n",
        "            pred.append(self._predict(x))\n",
        "        return pred"
      ],
      "execution_count": 10,
      "outputs": []
    },
    {
      "cell_type": "markdown",
      "metadata": {
        "id": "1Gmv2qqxGfzM"
      },
      "source": [
        "#### Show histogram of training data"
      ]
    },
    {
      "cell_type": "code",
      "metadata": {
        "id": "BkjhuGkLGfzN",
        "colab": {
          "base_uri": "https://localhost:8080/",
          "height": 265
        },
        "outputId": "e27d477e-a97c-47c8-dc95-8d2dd2dbc83f"
      },
      "source": [
        "model_1=NBGaussian()\n",
        "model_1.fit(X_train, y_train)\n",
        "model_1.plot_pdf()"
      ],
      "execution_count": 11,
      "outputs": [
        {
          "output_type": "display_data",
          "data": {
            "image/png": "[encoded data removed]",
            "text/plain": [
              "<Figure size 432x288 with 1 Axes>"
            ]
          },
          "metadata": {
            "tags": [],
            "needs_background": "light"
          }
        }
      ]
    },
    {
      "cell_type": "markdown",
      "metadata": {
        "id": "itiPerhxGfzW"
      },
      "source": [
        "#### Test wih 1 data record"
      ]
    },
    {
      "cell_type": "code",
      "metadata": {
        "id": "ev9UTlb6GfzX",
        "colab": {
          "base_uri": "https://localhost:8080/",
          "height": 315
        },
        "outputId": "4dbfad15-e646-456f-b19a-ef72eec33196"
      },
      "source": [
        "#label of y_test[10]\n",
        "print('Label of X_test[10]: ', y_test[10])\n",
        "#update model and show histogram with X_test[10]:\n",
        "\n",
        "print('Our histogram after update X_test[10]: ')\n",
        "model_1._predict(X_test[10],plot=True)\n"
      ],
      "execution_count": 12,
      "outputs": [
        {
          "output_type": "stream",
          "text": [
            "Label of X_test[10]:  2\n",
            "Our histogram after update X_test[10]: \n"
          ],
          "name": "stdout"
        },
        {
          "output_type": "display_data",
          "data": {
            "image/png": "[encoded data removed]",
            "text/plain": [
              "<Figure size 432x288 with 1 Axes>"
            ]
          },
          "metadata": {
            "tags": [],
            "needs_background": "light"
          }
        },
        {
          "output_type": "execute_result",
          "data": {
            "text/plain": [
              "2"
            ]
          },
          "metadata": {
            "tags": []
          },
          "execution_count": 12
        }
      ]
    },
    {
      "cell_type": "markdown",
      "metadata": {
        "id": "CAhcGUTgGfzd"
      },
      "source": [
        "#### Evaluate your Gaussian Naive Bayes model"
      ]
    },
    {
      "cell_type": "code",
      "metadata": {
        "id": "S5Kvk-rUGfze",
        "colab": {
          "base_uri": "https://localhost:8080/"
        },
        "outputId": "f4bee399-12cb-4d38-c939-712ff269740f"
      },
      "source": [
        "pred=model_1.predict(X_test)\n",
        "print('Accuracy of your Gaussian Naive Bayes model:', accuracy_score(y_test,pred))"
      ],
      "execution_count": 13,
      "outputs": [
        {
          "output_type": "stream",
          "text": [
            "Accuracy of your Gaussian Naive Bayes model: 0.96\n"
          ],
          "name": "stdout"
        }
      ]
    },
    {
      "cell_type": "markdown",
      "metadata": {
        "id": "gJaWYqt5Jvmp"
      },
      "source": [
        "**TODO**: F1, Recall and Precision report"
      ]
    },
    {
      "cell_type": "code",
      "metadata": {
        "id": "poeLwwMCLt2g"
      },
      "source": [
        "from sklearn.metrics import classification_report"
      ],
      "execution_count": 14,
      "outputs": []
    },
    {
      "cell_type": "code",
      "metadata": {
        "colab": {
          "base_uri": "https://localhost:8080/"
        },
        "id": "UwZoawjdN9BS",
        "outputId": "cbb972dc-3f38-4615-9b33-fd3c0d92c826"
      },
      "source": [
        "print(classification_report(y_test, model.predict(X_test)))"
      ],
      "execution_count": 15,
      "outputs": [
        {
          "output_type": "stream",
          "text": [
            "              precision    recall  f1-score   support\n",
            "\n",
            "           0       1.00      1.00      1.00        19\n",
            "           1       0.93      0.93      0.93        15\n",
            "           2       0.94      0.94      0.94        16\n",
            "\n",
            "    accuracy                           0.96        50\n",
            "   macro avg       0.96      0.96      0.96        50\n",
            "weighted avg       0.96      0.96      0.96        50\n",
            "\n"
          ],
          "name": "stdout"
        }
      ]
    },
    {
      "cell_type": "code",
      "metadata": {
        "colab": {
          "base_uri": "https://localhost:8080/"
        },
        "id": "J5eWaXO1NiUf",
        "outputId": "054243bf-5c14-4dfb-aee9-30ce2541d5f2"
      },
      "source": [
        "print(classification_report(y_test, model_1.predict(X_test)))"
      ],
      "execution_count": 16,
      "outputs": [
        {
          "output_type": "stream",
          "text": [
            "              precision    recall  f1-score   support\n",
            "\n",
            "           0       1.00      1.00      1.00        19\n",
            "           1       0.93      0.93      0.93        15\n",
            "           2       0.94      0.94      0.94        16\n",
            "\n",
            "    accuracy                           0.96        50\n",
            "   macro avg       0.96      0.96      0.96        50\n",
            "weighted avg       0.96      0.96      0.96        50\n",
            "\n"
          ],
          "name": "stdout"
        }
      ]
    }
  ]
}